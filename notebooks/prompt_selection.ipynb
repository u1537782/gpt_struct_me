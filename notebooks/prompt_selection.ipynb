{
 "cells": [
  {
   "cell_type": "code",
   "execution_count": 1,
   "metadata": {},
   "outputs": [],
   "source": [
    "from pathlib import Path\n",
    "\n",
    "from src.utils import is_json\n",
    "\n",
    "ROOT = Path().resolve().parent\n",
    "RESOURCE_PATH = ROOT / \"resources\"\n",
    "RESULTS_PATH = ROOT / \"results\" / \"prompt_selection\"\n"
   ]
  },
  {
   "attachments": {},
   "cell_type": "markdown",
   "metadata": {},
   "source": [
    "## Read the annotation"
   ]
  },
  {
   "cell_type": "code",
   "execution_count": 2,
   "metadata": {},
   "outputs": [],
   "source": [
    "annotations = []\n",
    "filepaths = RESULTS_PATH.glob(\"**/*.txt\")\n",
    "for filepath in filepaths:\n",
    "    *_, model, entity, template, doc, _ = filepath.parts\n",
    "    answer = filepath.read_text()\n",
    "    annotations.append({\n",
    "        \"model\": model,\n",
    "        \"entity\": entity,\n",
    "        \"template\": template,\n",
    "        \"doc\": doc,\n",
    "        \"answer\": answer\n",
    "    })"
   ]
  },
  {
   "attachments": {},
   "cell_type": "markdown",
   "metadata": {},
   "source": [
    "## How many responses are in a valid json format?"
   ]
  },
  {
   "cell_type": "code",
   "execution_count": 3,
   "metadata": {},
   "outputs": [
    {
     "name": "stdout",
     "output_type": "stream",
     "text": [
      "Number of JSON answers: 1928 / 2400\n",
      "Number of extraction answers: 1200\n",
      "Number of classification answers: 728\n"
     ]
    }
   ],
   "source": [
    "extraction_count = 0\n",
    "classification_count = 0\n",
    "for annotation in annotations:\n",
    "    answer = annotation[\"answer\"]\n",
    "    template = annotation[\"template\"]\n",
    "\n",
    "    if is_json(answer):\n",
    "        if template.startswith(\"tc\"):\n",
    "            classification_count += 1\n",
    "        elif template.startswith(\"te\"):\n",
    "            extraction_count += 1\n",
    "    \n",
    "print(f\"Number of JSON answers: {extraction_count + classification_count} / {len(annotations)}\")\n",
    "print(f\"Number of extraction answers: {extraction_count}\")\n",
    "print(f\"Number of classification answers: {classification_count}\")"
   ]
  },
  {
   "attachments": {},
   "cell_type": "markdown",
   "metadata": {},
   "source": [
    "We can see that the classification answers fail much more on complaing with the json format.\n",
    "\n",
    "Let's try to clean up the answers."
   ]
  },
  {
   "attachments": {},
   "cell_type": "markdown",
   "metadata": {},
   "source": [
    "### Clean classifaction answers"
   ]
  },
  {
   "cell_type": "code",
   "execution_count": 4,
   "metadata": {},
   "outputs": [
    {
     "name": "stdout",
     "output_type": "stream",
     "text": [
      "Number of bad classification answers: 472\n"
     ]
    }
   ],
   "source": [
    "bad_answers = []\n",
    "for annotation in annotations:\n",
    "    template = annotation[\"template\"]\n",
    "    answer = annotation[\"answer\"]\n",
    "\n",
    "    if not is_json(answer):\n",
    "        if template.startswith(\"tc\"):\n",
    "            bad_answers.append(answer)\n",
    "print(f\"Number of bad classification answers: {len(bad_answers)}\")"
   ]
  },
  {
   "attachments": {},
   "cell_type": "markdown",
   "metadata": {},
   "source": [
    "#### Transform into list\n",
    "\n",
    "Some of the answers do comply teh json format, but are presented as a list of dictionaries without the openning anc closing square brackets.\n",
    "\n",
    "Example:\n",
    "\n",
    "```json\n",
    "{\"State\": \"Um homem matou hoje com um disparo de arma de fogo a ex-companheira em Vila Nova de Gaia\"},\n",
    "{\"Occurrence\": \"Fonte do Comando Territorial da GNR do Porto referiu à agência Lusa que o crime ocorreu cerca das 10:30 na Rua da Figueirinha, em Grijó, Vila Nova de Gaia, distrito do Porto, e que o homem tem 62 anos\"},\n",
    "{\"Reporting\": \"O caso passou para a alçada da Polícia Judiciária\"},\n",
    "{\"Perception\": \"A fonte admitiu que o homem tenha cometido o crime em retaliação por a mulher ter optado por terminar a relação que ambos mantiveram durante 10 anos\"},\n",
    "{\"Aspectual\": \"A vítima era 20 anos mais nova\"},\n",
    "{\"Intensional Action\": \"Um homem matou hoje com um disparo de arma de fogo a ex-companheira em Vila Nova de Gaia e foi detido numa altura em que estaria a tentar o suicídio com a mesma arma\"},\n",
    "{\"Intensional State\": \"Homem mata ex-companheira com tiro em Vila Nova de Gaia\"}'\n",
    "```\n",
    "\n"
   ]
  },
  {
   "cell_type": "code",
   "execution_count": 5,
   "metadata": {},
   "outputs": [],
   "source": [
    "def transform_in_list(answer: str):\n",
    "    return f\"[{answer}]\""
   ]
  },
  {
   "cell_type": "code",
   "execution_count": 6,
   "metadata": {},
   "outputs": [
    {
     "name": "stdout",
     "output_type": "stream",
     "text": [
      "Number of bad classification answers that can be transformed into a list: 288\n"
     ]
    }
   ],
   "source": [
    "answers_missing_list = [\n",
    "    transform_in_list(answer) \n",
    "    for answer in bad_answers\n",
    "    if is_json(transform_in_list(answer))\n",
    "]\n",
    "\n",
    "print(f\"Number of bad classification answers that can be transformed into a list: {len(answers_missing_list)}\")"
   ]
  },
  {
   "cell_type": "code",
   "execution_count": 7,
   "metadata": {},
   "outputs": [
    {
     "name": "stdout",
     "output_type": "stream",
     "text": [
      "Number of bad classification answers that cannot be transformed into a list: 184\n"
     ]
    }
   ],
   "source": [
    "bad_answers = [\n",
    "    answer\n",
    "    for answer in bad_answers\n",
    "    if not is_json(transform_in_list(answer))\n",
    "]\n",
    "\n",
    "print(f\"Number of bad classification answers that cannot be transformed into a list: {len(bad_answers)}\")\n"
   ]
  },
  {
   "attachments": {},
   "cell_type": "markdown",
   "metadata": {},
   "source": [
    "#### Missing list of tuples\n",
    "\n",
    "Other common problems is the reponse being a list of tuples that is missing the squareed brackets.\n",
    "\n",
    "Example:\n",
    "\n",
    "```json\n",
    "{\"events\": (\"Edifício da Luanda Medical Center, hotel e projeto imobiliário devolvidos ao Estado\": \"State\"),\n",
    "(\"A Procuradoria-Geral da República (PGR) de Angola anunciou hoje\": \"Reporting\"),\n",
    "(\"foram entregues ao Serviço Nacional de Recuperação de Ativos mais três edifícios e um projeto imobiliário, incluindo a clínica Luanda Medical Center e um hotel\": \"Occurrence\"),\n",
    "}\n",
    "\n",
    "```"
   ]
  },
  {
   "cell_type": "code",
   "execution_count": 8,
   "metadata": {},
   "outputs": [],
   "source": [
    "def fix_list_of_tuples(answer: str):\n",
    "    answer = answer.replace(\": (\", \": [(\")\n",
    "    answer = answer.replace(\")}\", \")]}\")\n",
    "    answer = answer.replace(\")\", \"}\")\n",
    "    answer = answer.replace(\"(\", \"{\")\n",
    "    return answer\n"
   ]
  },
  {
   "cell_type": "code",
   "execution_count": 9,
   "metadata": {},
   "outputs": [
    {
     "name": "stdout",
     "output_type": "stream",
     "text": [
      "Number of bad answers that can be fixed with list of tuples: 102\n"
     ]
    }
   ],
   "source": [
    "answers_missing_list_of_tuples = [\n",
    "    fix_list_of_tuples(answer) \n",
    "    for answer in bad_answers\n",
    "    if is_json(fix_list_of_tuples(answer))\n",
    "]\n",
    "\n",
    "print(f\"Number of bad answers that can be fixed with list of tuples: {len(answers_missing_list_of_tuples)}\")"
   ]
  },
  {
   "cell_type": "code",
   "execution_count": 10,
   "metadata": {},
   "outputs": [
    {
     "name": "stdout",
     "output_type": "stream",
     "text": [
      "Number of bad classification answers that cannot be transformed into a list: 82\n"
     ]
    }
   ],
   "source": [
    "bad_answers = [\n",
    "    answer\n",
    "    for answer in bad_answers\n",
    "    if not is_json(fix_list_of_tuples(answer))\n",
    "]\n",
    "\n",
    "print(f\"Number of bad classification answers that cannot be transformed into a list: {len(bad_answers)}\")"
   ]
  },
  {
   "attachments": {},
   "cell_type": "markdown",
   "metadata": {},
   "source": [
    "The remaning answer are considered to be bad, and therefore, discarded."
   ]
  },
  {
   "attachments": {},
   "cell_type": "markdown",
   "metadata": {},
   "source": [
    "### Clean extraction answers"
   ]
  },
  {
   "cell_type": "code",
   "execution_count": 11,
   "metadata": {},
   "outputs": [
    {
     "name": "stdout",
     "output_type": "stream",
     "text": [
      "Number of bad classification answers: 0\n"
     ]
    }
   ],
   "source": [
    "bad_answers = []\n",
    "for annotation in annotations:\n",
    "    template = annotation[\"template\"]\n",
    "    answer = annotation[\"answer\"]\n",
    "\n",
    "    if not is_json(answer):\n",
    "        if template.startswith(\"te\"):\n",
    "            bad_answers.append(answer)\n",
    "print(f\"Number of bad classification answers: {len(bad_answers)}\")"
   ]
  }
 ],
 "metadata": {
  "kernelspec": {
   "display_name": "venv",
   "language": "python",
   "name": "python3"
  },
  "language_info": {
   "codemirror_mode": {
    "name": "ipython",
    "version": 3
   },
   "file_extension": ".py",
   "mimetype": "text/x-python",
   "name": "python",
   "nbconvert_exporter": "python",
   "pygments_lexer": "ipython3",
   "version": "3.9.16"
  },
  "orig_nbformat": 4
 },
 "nbformat": 4,
 "nbformat_minor": 2
}
